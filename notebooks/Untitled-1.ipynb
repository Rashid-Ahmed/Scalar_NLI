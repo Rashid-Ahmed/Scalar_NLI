{
 "cells": [
  {
   "cell_type": "code",
   "execution_count": 1,
   "metadata": {},
   "outputs": [],
   "source": [
    "import pandas as pd\n",
    "import os\n",
    "import string\n",
    "import re\n",
    "import copy\n",
    "pd.options.display.max_colwidth = 200\n",
    "from load_MNLI import load_gradables, load_nli_data, get_dataframe\n",
    "from adjective_loader import adjective_scale\n",
    "from adj_pairs import load_adjs"
   ]
  },
  {
   "cell_type": "code",
   "execution_count": 91,
   "metadata": {},
   "outputs": [],
   "source": [
    "mnli_data = load_nli_data('multinli.jsonl')\n",
    "mnli_data = get_dataframe(mnli_data)\n",
    "synonyms, antonyms = load_adjs('testset.txt')\n"
   ]
  },
  {
   "cell_type": "code",
   "execution_count": 101,
   "metadata": {},
   "outputs": [
    {
     "name": "stdout",
     "output_type": "stream",
     "text": [
      "0 88\n"
     ]
    },
    {
     "name": "stderr",
     "output_type": "stream",
     "text": [
      "C:\\Users\\Rashi\\AppData\\Local\\Temp\\ipykernel_14524\\3077762361.py:13: UserWarning: Boolean Series key will be reindexed to match DataFrame index.\n",
      "  x = mnli_data[mnli_data['sentence1'].str.contains('\\\\b' + list[j] + '\\\\b')][mnli_data['sentence2'].str.contains('\\\\b' + list[k] + '\\\\b')]\n"
     ]
    },
    {
     "name": "stdout",
     "output_type": "stream",
     "text": [
      "1 88\n",
      "2 88\n",
      "3 88\n",
      "4 88\n",
      "5 88\n",
      "6 88\n",
      "7 88\n",
      "8 88\n",
      "9 88\n",
      "10 88\n",
      "11 88\n",
      "12 88\n",
      "13 88\n",
      "14 88\n",
      "15 88\n",
      "16 88\n",
      "17 88\n",
      "18 88\n",
      "19 88\n",
      "20 88\n",
      "21 88\n",
      "22 88\n",
      "23 88\n",
      "24 88\n",
      "25 88\n",
      "26 88\n",
      "27 88\n",
      "28 88\n",
      "29 88\n",
      "30 88\n",
      "31 88\n",
      "32 88\n",
      "33 88\n",
      "34 88\n",
      "35 88\n",
      "36 88\n",
      "37 88\n",
      "38 88\n",
      "39 88\n",
      "40 88\n",
      "41 88\n",
      "42 88\n",
      "43 88\n",
      "44 88\n",
      "45 88\n",
      "46 88\n",
      "47 88\n",
      "48 88\n",
      "49 88\n",
      "50 88\n",
      "51 88\n",
      "52 88\n",
      "53 88\n",
      "54 88\n",
      "55 88\n",
      "56 88\n",
      "57 88\n",
      "58 88\n",
      "59 88\n",
      "60 88\n",
      "61 88\n",
      "62 88\n",
      "63 88\n",
      "64 88\n",
      "65 88\n",
      "66 88\n",
      "67 88\n",
      "68 88\n",
      "69 88\n",
      "70 88\n",
      "71 88\n",
      "72 88\n",
      "73 88\n",
      "74 88\n",
      "75 88\n",
      "76 88\n",
      "77 88\n",
      "78 88\n",
      "79 88\n",
      "80 88\n",
      "81 88\n",
      "82 88\n",
      "83 88\n",
      "84 88\n",
      "85 88\n",
      "86 88\n",
      "87 88\n"
     ]
    },
    {
     "name": "stderr",
     "output_type": "stream",
     "text": [
      "C:\\Users\\Rashi\\AppData\\Local\\Temp\\ipykernel_14524\\3077762361.py:24: UserWarning: Boolean Series key will be reindexed to match DataFrame index.\n",
      "  x = mnli_data[mnli_data['sentence1'].str.contains('\\\\b' + antonyms[i] + '\\\\b')][mnli_data['sentence2'].str.contains('\\\\b' + synonyms[i][j] + '\\\\b')]\n",
      "C:\\Users\\Rashi\\AppData\\Local\\Temp\\ipykernel_14524\\3077762361.py:25: UserWarning: Boolean Series key will be reindexed to match DataFrame index.\n",
      "  y = mnli_data[mnli_data['sentence1'].str.contains('\\\\b' + synonyms[i][j] + '\\\\b')][mnli_data['sentence2'].str.contains('\\\\b' + antonyms[i] + '\\\\b')]\n"
     ]
    }
   ],
   "source": [
    "sentence1 = []\n",
    "sentence2 = []\n",
    "label = []\n",
    "premise_word = []\n",
    "hypothesis_word = []\n",
    "i = 0\n",
    "for list in synonyms:\n",
    "    i = i + 1\n",
    "    for j in range(len(list)):\n",
    "        for k in range(len(list)):\n",
    "            if j!=k:\n",
    "                x = mnli_data[mnli_data['sentence1'].str.contains('\\\\b' + list[j] + '\\\\b')][mnli_data['sentence2'].str.contains('\\\\b' + list[k] + '\\\\b')]\n",
    "                sentence1.extend(x['sentence1'])\n",
    "                sentence2.extend(x['sentence2'])\n",
    "                label.extend(x['gold_label'])\n",
    "                premise_word.extend([list[j]] * x.shape[0])\n",
    "                hypothesis_word.extend([list[k]] * x.shape[0])\n",
    "Type = ['positive'] * len(sentence1)             \n",
    "       \n",
    "for i in range(len(antonyms)):\n",
    "    for j in range(len(synonyms[i])):\n",
    "        \n",
    "        x = mnli_data[mnli_data['sentence1'].str.contains('\\\\b' + antonyms[i] + '\\\\b')][mnli_data['sentence2'].str.contains('\\\\b' + synonyms[i][j] + '\\\\b')]\n",
    "        y = mnli_data[mnli_data['sentence1'].str.contains('\\\\b' + synonyms[i][j] + '\\\\b')][mnli_data['sentence2'].str.contains('\\\\b' + antonyms[i] + '\\\\b')]\n",
    "        \n",
    "        sentence1.extend(x['sentence1'])\n",
    "        sentence2.extend(x['sentence2'])\n",
    "        label.extend(x['gold_label'])\n",
    "        premise_word.extend([antonyms[i]] * x.shape[0])\n",
    "        hypothesis_word.extend([synonyms[i][j]] * x.shape[0])\n",
    "        \n",
    "        sentence1.extend(y['sentence1'])\n",
    "        sentence2.extend(y['sentence2'])\n",
    "        label.extend(y['gold_label'])\n",
    "        premise_word.extend([synonyms[i][j]] * y.shape[0])\n",
    "        hypothesis_word.extend([antonyms[i]] * y.shape[0])\n",
    "        \n",
    "Type.extend(['negative'] * (len(sentence1) - len(Type)))\n",
    "\n",
    "adjective_pairs = pd.DataFrame(zip(sentence1, sentence2, premise_word, hypothesis_word, Type, label), columns=['sentence1', 'sentence2', 'adj_premise', 'adj_hypothesis', 'Type', 'label'])"
   ]
  }
 ],
 "metadata": {
  "kernelspec": {
   "display_name": "Python 3.9.12 64-bit",
   "language": "python",
   "name": "python3"
  },
  "language_info": {
   "codemirror_mode": {
    "name": "ipython",
    "version": 3
   },
   "file_extension": ".py",
   "mimetype": "text/x-python",
   "name": "python",
   "nbconvert_exporter": "python",
   "pygments_lexer": "ipython3",
   "version": "3.9.12"
  },
  "orig_nbformat": 4,
  "vscode": {
   "interpreter": {
    "hash": "7ddf133b4eda059986521323f3292d266b4e97de12a5e96c4c9cf48956d966ac"
   }
  }
 },
 "nbformat": 4,
 "nbformat_minor": 2
}
